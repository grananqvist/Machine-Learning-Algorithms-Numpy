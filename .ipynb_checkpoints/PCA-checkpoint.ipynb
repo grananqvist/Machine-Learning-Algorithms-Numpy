{
 "cells": [
  {
   "cell_type": "code",
   "execution_count": 221,
   "metadata": {
    "collapsed": true
   },
   "outputs": [],
   "source": [
    "import numpy as np\n",
    "from sklearn import datasets\n",
    "import matplotlib.pyplot as plt\n",
    "from mpl_toolkits.mplot3d import Axes3D\n",
    "\n",
    "import plotly\n",
    "import plotly.graph_objs as go\n",
    "import plotly.plotly as py"
   ]
  },
  {
   "cell_type": "code",
   "execution_count": 222,
   "metadata": {
    "collapsed": true
   },
   "outputs": [],
   "source": [
    "class PCA:\n",
    "    \n",
    "    def fit(self, X):\n",
    "        \n",
    "        mean_vec = np.mean(X, axis=0)\n",
    "        cov_mat = (X - mean_vec).T.dot((X - mean_vec)) / (X.shape[0]-1)\n",
    "        eig_vals, eig_vecs = np.linalg.eig(cov_mat)\n",
    "\n",
    "        # Make a list of (eigenvalue, eigenvector) tuples\n",
    "        eig_pairs = [(np.abs(eig_vals[i]), eig_vecs[:,i]) for i in range(len(eig_vals))]\n",
    "\n",
    "        # Sort the (eigenvalue, eigenvector) tuples from high to low\n",
    "        eig_pairs.sort(reverse=True)\n",
    "\n",
    "        # statically take two principal components \n",
    "        eig_pairs = eig_pairs[:2]\n",
    "\n",
    "        # make projection matrix from principal components\n",
    "        self.components = np.hstack(map(lambda eig_pair: eig_pair[1].reshape(X.shape[1],1) , eig_pairs))\n",
    "        \n",
    "    def project(self, X):\n",
    "        \"\"\" Project input data onto the space of the principal components \"\"\"\n",
    "        return np.dot(X, self.components)"
   ]
  },
  {
   "cell_type": "code",
   "execution_count": 239,
   "metadata": {},
   "outputs": [
    {
     "name": "stdout",
     "output_type": "stream",
     "text": [
      "High five! You successfully sent some data to your account on plotly. View your plot in your browser at https://plot.ly/~fgranqvist/0 or inside your plot.ly account where it is named 'test1'\n"
     ]
    },
    {
     "data": {
      "text/html": [
       "<iframe id=\"igraph\" scrolling=\"no\" style=\"border:none;\" seamless=\"seamless\" src=\"https://plot.ly/~fgranqvist/0.embed\" height=\"525px\" width=\"100%\"></iframe>"
      ],
      "text/plain": [
       "<plotly.tools.PlotlyDisplay object>"
      ]
     },
     "execution_count": 239,
     "metadata": {},
     "output_type": "execute_result"
    }
   ],
   "source": [
    "# generate dataset\n",
    "X, Y = datasets.make_regression(n_samples=100, n_features=2, n_informative=2, noise=40, bias=0)\n",
    "X = np.stack([X[:,0], X[:,1],Y], axis=1)\n",
    "X = X / np.std(X, axis=0)\n",
    "\n",
    "# train PCA\n",
    "pca = PCA()\n",
    "pca.fit(X)\n",
    "\n",
    "\"\"\" plot projection plane section \"\"\"\n",
    "\n",
    "# grid for surface\n",
    "x_axis = np.linspace(min(X[:,0]), max(X[:,0]), 10)\n",
    "y_axis = np.linspace(min(X[:,1]), max(X[:,1]), 10)\n",
    "X_grid, Y_grid = np.meshgrid(x_axis, y_axis)\n",
    "\n",
    "# calc normal vector to plane\n",
    "normal = np.cross(pca.components[:,0] , pca.components[:,1])\n",
    "\n",
    "# the normal is (a, b, c) \n",
    "# and the plane equation is a*x + b*y + c*z = 0\n",
    "# solve for Z\n",
    "Z = ( -1 * normal[0] * X_grid - 1 * normal[1] * Y_grid ) / normal[2]\n",
    "\n",
    "# plot points with plotly\n",
    "trace1 = go.Scatter3d(\n",
    "    x=X[:,0],\n",
    "    y=X[:,1],\n",
    "    z=X[:,2],\n",
    "    mode='markers',\n",
    "    marker=dict(size=4, color='red', line=dict(color='black', width=0.5), opacity=0.8)\n",
    ")\n",
    "\n",
    "# plot plane with plotly\n",
    "trace2 = go.Surface(z=Z, x=X_grid, y=Y_grid, colorscale='RdBu', opacity=0.6)\n",
    "\n",
    "# Package the trace dictionary into a data object\n",
    "data = [trace1, trace2]\n",
    "\n",
    "# Dictionary of style options for all axes\n",
    "axis = dict(\n",
    "    showbackground=True, # show axis background\n",
    "    backgroundcolor=\"rgb(204, 204, 204)\", # set background color to grey\n",
    "    gridcolor=\"rgb(255, 255, 255)\",       # set grid line color\n",
    "    zerolinecolor=\"rgb(255, 255, 255)\",   # set zero grid line color\n",
    ")\n",
    "\n",
    "# Make a layout object\n",
    "layout = go.Layout(\n",
    "    title='1st-order (linear) plane', # set plot title\n",
    "    scene=go.layout.Scene(  # axes are part of a 'scene' in 3d plots\n",
    "        xaxis=go.layout.scene.XAxis(axis), # set x-axis style\n",
    "        yaxis=go.layout.scene.YAxis(axis), # set y-axis style\n",
    "        zaxis=go.layout.scene.ZAxis(axis)),  # set z-axis style\n",
    ")\n",
    "\n",
    "# Make a figure object\n",
    "fig = go.Figure(data=data, layout=layout)\n",
    "\n",
    "# Send to Plotly and show in notebook\n",
    "py.iplot(fig, filename='test1')"
   ]
  },
  {
   "cell_type": "code",
   "execution_count": null,
   "metadata": {
    "collapsed": true
   },
   "outputs": [],
   "source": []
  },
  {
   "cell_type": "code",
   "execution_count": null,
   "metadata": {
    "collapsed": true
   },
   "outputs": [],
   "source": []
  }
 ],
 "metadata": {
  "kernelspec": {
   "display_name": "Python 3",
   "language": "python",
   "name": "python3"
  },
  "language_info": {
   "codemirror_mode": {
    "name": "ipython",
    "version": 3
   },
   "file_extension": ".py",
   "mimetype": "text/x-python",
   "name": "python",
   "nbconvert_exporter": "python",
   "pygments_lexer": "ipython3",
   "version": "3.5.2"
  }
 },
 "nbformat": 4,
 "nbformat_minor": 2
}
