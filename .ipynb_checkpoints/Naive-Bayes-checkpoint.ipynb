{
 "cells": [
  {
   "cell_type": "code",
   "execution_count": 1,
   "metadata": {
    "collapsed": true
   },
   "outputs": [],
   "source": [
    "import numpy as np\n",
    "import pandas as pd"
   ]
  },
  {
   "cell_type": "code",
   "execution_count": 2,
   "metadata": {
    "collapsed": true
   },
   "outputs": [],
   "source": [
    "class NBBinaryClassifier:\n",
    "    \"\"\" Naive Bayes binary classifier \"\"\"\n",
    "    \n",
    "    def fit(self, X, Y):\n",
    "        \"\"\" Fit classifier on dataset\n",
    "        \n",
    "        Arguments:\n",
    "        X - a list of sentences. Each sentence is a list of words\n",
    "        Y - binary labels for samples in `X`\n",
    "        \"\"\"\n",
    "        self.trainPositive, self.trainNegative = {}, {}\n",
    "        self.positiveTotal, self.negativeTotal = 0, 0\n",
    "        \n",
    "        total = 0\n",
    "        num_spam = 0\n",
    "        for sentence, label in zip(X, Y):\n",
    "            if label:\n",
    "                num_spam +=1\n",
    "            self._processSample(sentence, label)\n",
    "        \n",
    "        self.num_words = len(X)\n",
    "        \n",
    "        # prior probabilities\n",
    "        self.prior_spam = num_spam / len(X)\n",
    "        self.prior_not_spam = 1 - num_spam / len(X)\n",
    "        \n",
    "    def predict(self, sentence):\n",
    "        \"\"\" Make a prediction. Calculate conditional probability and return the class with the\n",
    "        highest probability. \n",
    "        \n",
    "        Arguments:\n",
    "        sentence - The sentence to predict on, format is a list of words\n",
    "        \n",
    "        Returns:\n",
    "        1 = spam or 0 = not spam\n",
    "        \"\"\"\n",
    "        prob_spam = self.prior_spam * self._conditionalSample(sentence, 1) # P (A | B)\n",
    "        prob_not_spam = self.prior_not_spam * self._conditionalSample(sentence, 0) # P(¬A | B)\n",
    "        \n",
    "        # return most probable\n",
    "        return int(prob_spam > prob_not_spam)\n",
    "        \n",
    "    def _processSample(self, sentence, label):\n",
    "        \"\"\" Increases the prior count and likelihood count for the (sentence, label) pair \"\"\"\n",
    "        for word in sentence:\n",
    "            if label == 1:\n",
    "                self.trainPositive[word] = self.trainPositive.get(word, 0) + 1\n",
    "                self.positiveTotal += 1\n",
    "            else:\n",
    "                self.trainNegative[word] = self.trainNegative.get(word, 0) + 1\n",
    "                self.negativeTotal += 1\n",
    "                \n",
    "    def _conditionalSample(self, sentence , spam) :\n",
    "        \"\"\" Calculate the contidional probability for a sentence \"\"\"\n",
    "        conditional = 1\n",
    "        for word in sentence:\n",
    "            conditional *= self._conditionalWord(word , spam)\n",
    "        return conditional\n",
    "    \n",
    "    def _conditionalWord(self, word, spam):\n",
    "        \"\"\" Calculate conditional probability for a word \"\"\"\n",
    "\n",
    "        #Laplace Smoothing for the words not present in the training set (aplha=1)\n",
    "        if spam:\n",
    "            return (self.trainPositive.get(word,0)+1)/(self.positiveTotal+1*self.num_words)\n",
    "        else:\n",
    "            return (self.trainNegative.get(word,0)+1)/(self.negativeTotal+1*self.num_words)"
   ]
  },
  {
   "cell_type": "code",
   "execution_count": 6,
   "metadata": {},
   "outputs": [
    {
     "name": "stdout",
     "output_type": "stream",
     "text": [
      " --NOT SPAM --  go until jurong point, crazy.. available only in bugis n great world la e buffet... cine there got amore wat...\n",
      "\n",
      "\n",
      " --NOT SPAM --  fighting with the world is easy, u either win or lose bt fightng with some1 who is close to u is dificult if u lose - u lose if u win - u still lose.\n",
      "\n",
      "\n",
      " --NOT SPAM --  no..but heard abt tat..\n",
      "\n",
      "\n",
      "-- SPAM --  host-based idps for linux systems.\n",
      "\n",
      "\n",
      " --NOT SPAM --  but i'll b going 2 sch on mon. my sis need 2 take smth.\n",
      "\n",
      "\n",
      " --NOT SPAM --  remember to ask alex about his pizza\n",
      "\n",
      "\n",
      "-- SPAM --  this message is free. welcome to the new & improved sex & dogging club! to unsubscribe from this service reply stop. msgs@150p 18+only\n",
      "\n",
      "\n",
      " --NOT SPAM --  says the  &lt;#&gt;  year old with a man and money. i'm down to my last  &lt;#&gt; . still waiting for that check.\n",
      "\n",
      "\n",
      " --NOT SPAM --  he's just gonna worry for nothing. and he won't give you money its no use.\n",
      "\n",
      "\n",
      " --NOT SPAM --  so wat's da decision?\n",
      "\n",
      "\n",
      " --NOT SPAM --  nope. since ayo travelled, he has forgotten his guy\n",
      "\n",
      "\n",
      " --NOT SPAM --  love has one law; make happy the person you love. in the same way friendship has one law; never make ur friend feel alone until you are alive.... gud night\n",
      "\n",
      "\n",
      "accuracy: 0.9892318736539842\n"
     ]
    }
   ],
   "source": [
    "# load spam or ham dataset (from kaggle) and preprocess\n",
    "data = pd.read_csv('./spam.csv', encoding=\"latin1\")\n",
    "X = [ sentence.lower().split(' ') for sentence in data['v2']]\n",
    "Y = [ int(y == 'spam') for y in data['v1']]\n",
    "\n",
    "# train\n",
    "nb = NBBinaryClassifier()\n",
    "nb.fit(X,Y)\n",
    "\n",
    "# predict on dataset\n",
    "correct, i = 0, 0\n",
    "for i, (sentence, label) in enumerate(zip(X, Y)):\n",
    "    y_pred = nb.predict(sentence)\n",
    "    correct += np.equal(y_pred, label)\n",
    "    \n",
    "    if i % 500 == 0:\n",
    "        print('-- SPAM -- ' if y_pred else ' --NOT SPAM -- ', \" \".join(sentence))\n",
    "        print('\\n')\n",
    "    \n",
    "print('accuracy: {0}'.format(correct / len(X)))"
   ]
  },
  {
   "cell_type": "code",
   "execution_count": null,
   "metadata": {
    "collapsed": true
   },
   "outputs": [],
   "source": []
  }
 ],
 "metadata": {
  "kernelspec": {
   "display_name": "Python 3",
   "language": "python",
   "name": "python3"
  },
  "language_info": {
   "codemirror_mode": {
    "name": "ipython",
    "version": 3
   },
   "file_extension": ".py",
   "mimetype": "text/x-python",
   "name": "python",
   "nbconvert_exporter": "python",
   "pygments_lexer": "ipython3",
   "version": "3.5.2"
  }
 },
 "nbformat": 4,
 "nbformat_minor": 2
}
